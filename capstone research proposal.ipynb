{
 "cells": [
  {
   "cell_type": "code",
   "execution_count": 21,
   "metadata": {},
   "outputs": [],
   "source": [
    "import numpy as np\n",
    "import pandas as pd\n",
    "import seaborn as sns\n",
    "import matplotlib.pyplot as plt\n",
    "%matplotlib inline"
   ]
  },
  {
   "cell_type": "code",
   "execution_count": 22,
   "metadata": {},
   "outputs": [
    {
     "name": "stdout",
     "output_type": "stream",
     "text": [
      "   Age Attrition     BusinessTravel  DailyRate              Department  \\\n",
      "0   41       Yes      Travel_Rarely       1102                   Sales   \n",
      "1   49        No  Travel_Frequently        279  Research & Development   \n",
      "2   37       Yes      Travel_Rarely       1373  Research & Development   \n",
      "3   33        No  Travel_Frequently       1392  Research & Development   \n",
      "4   27        No      Travel_Rarely        591  Research & Development   \n",
      "\n",
      "   DistanceFromHome  Education EducationField  EmployeeCount  EmployeeNumber  \\\n",
      "0                 1          2  Life Sciences              1               1   \n",
      "1                 8          1  Life Sciences              1               2   \n",
      "2                 2          2          Other              1               4   \n",
      "3                 3          4  Life Sciences              1               5   \n",
      "4                 2          1        Medical              1               7   \n",
      "\n",
      "           ...           RelationshipSatisfaction StandardHours  \\\n",
      "0          ...                                  1            80   \n",
      "1          ...                                  4            80   \n",
      "2          ...                                  2            80   \n",
      "3          ...                                  3            80   \n",
      "4          ...                                  4            80   \n",
      "\n",
      "   StockOptionLevel  TotalWorkingYears  TrainingTimesLastYear WorkLifeBalance  \\\n",
      "0                 0                  8                      0               1   \n",
      "1                 1                 10                      3               3   \n",
      "2                 0                  7                      3               3   \n",
      "3                 0                  8                      3               3   \n",
      "4                 1                  6                      3               3   \n",
      "\n",
      "   YearsAtCompany YearsInCurrentRole  YearsSinceLastPromotion  \\\n",
      "0               6                  4                        0   \n",
      "1              10                  7                        1   \n",
      "2               0                  0                        0   \n",
      "3               8                  7                        3   \n",
      "4               2                  2                        2   \n",
      "\n",
      "   YearsWithCurrManager  \n",
      "0                     5  \n",
      "1                     7  \n",
      "2                     0  \n",
      "3                     0  \n",
      "4                     2  \n",
      "\n",
      "[5 rows x 35 columns]\n"
     ]
    }
   ],
   "source": [
    "df = pd.read_csv(\"HR-Employee-Attrition.csv\")\n",
    "df = df.dropna()\n",
    "df = df.drop_duplicates()\n",
    "\n",
    "print(df.head())\n"
   ]
  },
  {
   "cell_type": "code",
   "execution_count": 23,
   "metadata": {},
   "outputs": [
    {
     "name": "stdout",
     "output_type": "stream",
     "text": [
      "               Age    DailyRate  DistanceFromHome    Education  EmployeeCount  \\\n",
      "count  1470.000000  1470.000000       1470.000000  1470.000000         1470.0   \n",
      "mean     36.923810   802.485714          9.192517     2.912925            1.0   \n",
      "std       9.135373   403.509100          8.106864     1.024165            0.0   \n",
      "min      18.000000   102.000000          1.000000     1.000000            1.0   \n",
      "25%      30.000000   465.000000          2.000000     2.000000            1.0   \n",
      "50%      36.000000   802.000000          7.000000     3.000000            1.0   \n",
      "75%      43.000000  1157.000000         14.000000     4.000000            1.0   \n",
      "max      60.000000  1499.000000         29.000000     5.000000            1.0   \n",
      "\n",
      "       EmployeeNumber  EnvironmentSatisfaction   HourlyRate  JobInvolvement  \\\n",
      "count     1470.000000              1470.000000  1470.000000     1470.000000   \n",
      "mean      1024.865306                 2.721769    65.891156        2.729932   \n",
      "std        602.024335                 1.093082    20.329428        0.711561   \n",
      "min          1.000000                 1.000000    30.000000        1.000000   \n",
      "25%        491.250000                 2.000000    48.000000        2.000000   \n",
      "50%       1020.500000                 3.000000    66.000000        3.000000   \n",
      "75%       1555.750000                 4.000000    83.750000        3.000000   \n",
      "max       2068.000000                 4.000000   100.000000        4.000000   \n",
      "\n",
      "          JobLevel          ...           RelationshipSatisfaction  \\\n",
      "count  1470.000000          ...                        1470.000000   \n",
      "mean      2.063946          ...                           2.712245   \n",
      "std       1.106940          ...                           1.081209   \n",
      "min       1.000000          ...                           1.000000   \n",
      "25%       1.000000          ...                           2.000000   \n",
      "50%       2.000000          ...                           3.000000   \n",
      "75%       3.000000          ...                           4.000000   \n",
      "max       5.000000          ...                           4.000000   \n",
      "\n",
      "       StandardHours  StockOptionLevel  TotalWorkingYears  \\\n",
      "count         1470.0       1470.000000        1470.000000   \n",
      "mean            80.0          0.793878          11.279592   \n",
      "std              0.0          0.852077           7.780782   \n",
      "min             80.0          0.000000           0.000000   \n",
      "25%             80.0          0.000000           6.000000   \n",
      "50%             80.0          1.000000          10.000000   \n",
      "75%             80.0          1.000000          15.000000   \n",
      "max             80.0          3.000000          40.000000   \n",
      "\n",
      "       TrainingTimesLastYear  WorkLifeBalance  YearsAtCompany  \\\n",
      "count            1470.000000      1470.000000     1470.000000   \n",
      "mean                2.799320         2.761224        7.008163   \n",
      "std                 1.289271         0.706476        6.126525   \n",
      "min                 0.000000         1.000000        0.000000   \n",
      "25%                 2.000000         2.000000        3.000000   \n",
      "50%                 3.000000         3.000000        5.000000   \n",
      "75%                 3.000000         3.000000        9.000000   \n",
      "max                 6.000000         4.000000       40.000000   \n",
      "\n",
      "       YearsInCurrentRole  YearsSinceLastPromotion  YearsWithCurrManager  \n",
      "count         1470.000000              1470.000000           1470.000000  \n",
      "mean             4.229252                 2.187755              4.123129  \n",
      "std              3.623137                 3.222430              3.568136  \n",
      "min              0.000000                 0.000000              0.000000  \n",
      "25%              2.000000                 0.000000              2.000000  \n",
      "50%              3.000000                 1.000000              3.000000  \n",
      "75%              7.000000                 3.000000              7.000000  \n",
      "max             18.000000                15.000000             17.000000  \n",
      "\n",
      "[8 rows x 26 columns]\n"
     ]
    }
   ],
   "source": [
    "print(df.describe())"
   ]
  },
  {
   "cell_type": "code",
   "execution_count": 24,
   "metadata": {},
   "outputs": [],
   "source": [
    "att_yes = df[df['Attrition'] == 'Yes']\n",
    "att_no = df[df['Attrition'] == 'No']\n"
   ]
  },
  {
   "cell_type": "code",
   "execution_count": 25,
   "metadata": {},
   "outputs": [
    {
     "name": "stdout",
     "output_type": "stream",
     "text": [
      "              Age    DailyRate  DistanceFromHome   Education  EmployeeCount  \\\n",
      "count  237.000000   237.000000        237.000000  237.000000          237.0   \n",
      "mean    33.607595   750.362869         10.632911    2.839662            1.0   \n",
      "std      9.689350   401.899519          8.452525    1.008244            0.0   \n",
      "min     18.000000   103.000000          1.000000    1.000000            1.0   \n",
      "25%     28.000000   408.000000          3.000000    2.000000            1.0   \n",
      "50%     32.000000   699.000000          9.000000    3.000000            1.0   \n",
      "75%     39.000000  1092.000000         17.000000    4.000000            1.0   \n",
      "max     58.000000  1496.000000         29.000000    5.000000            1.0   \n",
      "\n",
      "       EmployeeNumber  EnvironmentSatisfaction  HourlyRate  JobInvolvement  \\\n",
      "count      237.000000               237.000000  237.000000      237.000000   \n",
      "mean      1010.345992                 2.464135   65.573840        2.518987   \n",
      "std        580.750572                 1.169791   20.099958        0.773405   \n",
      "min          1.000000                 1.000000   31.000000        1.000000   \n",
      "25%        514.000000                 1.000000   50.000000        2.000000   \n",
      "50%       1017.000000                 3.000000   66.000000        3.000000   \n",
      "75%       1486.000000                 4.000000   84.000000        3.000000   \n",
      "max       2055.000000                 4.000000  100.000000        4.000000   \n",
      "\n",
      "         JobLevel          ...           RelationshipSatisfaction  \\\n",
      "count  237.000000          ...                         237.000000   \n",
      "mean     1.637131          ...                           2.599156   \n",
      "std      0.940594          ...                           1.125437   \n",
      "min      1.000000          ...                           1.000000   \n",
      "25%      1.000000          ...                           2.000000   \n",
      "50%      1.000000          ...                           3.000000   \n",
      "75%      2.000000          ...                           4.000000   \n",
      "max      5.000000          ...                           4.000000   \n",
      "\n",
      "       StandardHours  StockOptionLevel  TotalWorkingYears  \\\n",
      "count          237.0        237.000000         237.000000   \n",
      "mean            80.0          0.527426           8.244726   \n",
      "std              0.0          0.856361           7.169204   \n",
      "min             80.0          0.000000           0.000000   \n",
      "25%             80.0          0.000000           3.000000   \n",
      "50%             80.0          0.000000           7.000000   \n",
      "75%             80.0          1.000000          10.000000   \n",
      "max             80.0          3.000000          40.000000   \n",
      "\n",
      "       TrainingTimesLastYear  WorkLifeBalance  YearsAtCompany  \\\n",
      "count             237.000000       237.000000      237.000000   \n",
      "mean                2.624473         2.658228        5.130802   \n",
      "std                 1.254784         0.816453        5.949984   \n",
      "min                 0.000000         1.000000        0.000000   \n",
      "25%                 2.000000         2.000000        1.000000   \n",
      "50%                 2.000000         3.000000        3.000000   \n",
      "75%                 3.000000         3.000000        7.000000   \n",
      "max                 6.000000         4.000000       40.000000   \n",
      "\n",
      "       YearsInCurrentRole  YearsSinceLastPromotion  YearsWithCurrManager  \n",
      "count          237.000000               237.000000            237.000000  \n",
      "mean             2.902954                 1.945148              2.852321  \n",
      "std              3.174827                 3.153077              3.143349  \n",
      "min              0.000000                 0.000000              0.000000  \n",
      "25%              0.000000                 0.000000              0.000000  \n",
      "50%              2.000000                 1.000000              2.000000  \n",
      "75%              4.000000                 2.000000              5.000000  \n",
      "max             15.000000                15.000000             14.000000  \n",
      "\n",
      "[8 rows x 26 columns]\n"
     ]
    }
   ],
   "source": [
    "print(att_yes.describe())"
   ]
  },
  {
   "cell_type": "code",
   "execution_count": 26,
   "metadata": {},
   "outputs": [
    {
     "name": "stdout",
     "output_type": "stream",
     "text": [
      "               Age    DailyRate  DistanceFromHome    Education  EmployeeCount  \\\n",
      "count  1233.000000  1233.000000       1233.000000  1233.000000         1233.0   \n",
      "mean     37.561233   812.504461          8.915653     2.927007            1.0   \n",
      "std       8.888360   403.208379          8.012633     1.027002            0.0   \n",
      "min      18.000000   102.000000          1.000000     1.000000            1.0   \n",
      "25%      31.000000   477.000000          2.000000     2.000000            1.0   \n",
      "50%      36.000000   817.000000          7.000000     3.000000            1.0   \n",
      "75%      43.000000  1176.000000         13.000000     4.000000            1.0   \n",
      "max      60.000000  1499.000000         29.000000     5.000000            1.0   \n",
      "\n",
      "       EmployeeNumber  EnvironmentSatisfaction   HourlyRate  JobInvolvement  \\\n",
      "count     1233.000000              1233.000000  1233.000000     1233.000000   \n",
      "mean      1027.656123                 2.771290    65.952149        2.770479   \n",
      "std        606.217074                 1.071132    20.380754        0.692050   \n",
      "min          2.000000                 1.000000    30.000000        1.000000   \n",
      "25%        483.000000                 2.000000    48.000000        2.000000   \n",
      "50%       1022.000000                 3.000000    66.000000        3.000000   \n",
      "75%       1574.000000                 4.000000    83.000000        3.000000   \n",
      "max       2068.000000                 4.000000   100.000000        4.000000   \n",
      "\n",
      "          JobLevel          ...           RelationshipSatisfaction  \\\n",
      "count  1233.000000          ...                        1233.000000   \n",
      "mean      2.145985          ...                           2.733982   \n",
      "std       1.117933          ...                           1.071603   \n",
      "min       1.000000          ...                           1.000000   \n",
      "25%       1.000000          ...                           2.000000   \n",
      "50%       2.000000          ...                           3.000000   \n",
      "75%       3.000000          ...                           4.000000   \n",
      "max       5.000000          ...                           4.000000   \n",
      "\n",
      "       StandardHours  StockOptionLevel  TotalWorkingYears  \\\n",
      "count         1233.0       1233.000000        1233.000000   \n",
      "mean            80.0          0.845093          11.862936   \n",
      "std              0.0          0.841985           7.760719   \n",
      "min             80.0          0.000000           0.000000   \n",
      "25%             80.0          0.000000           6.000000   \n",
      "50%             80.0          1.000000          10.000000   \n",
      "75%             80.0          1.000000          16.000000   \n",
      "max             80.0          3.000000          38.000000   \n",
      "\n",
      "       TrainingTimesLastYear  WorkLifeBalance  YearsAtCompany  \\\n",
      "count            1233.000000      1233.000000     1233.000000   \n",
      "mean                2.832928         2.781022        7.369019   \n",
      "std                 1.293585         0.681907        6.096298   \n",
      "min                 0.000000         1.000000        0.000000   \n",
      "25%                 2.000000         2.000000        3.000000   \n",
      "50%                 3.000000         3.000000        6.000000   \n",
      "75%                 3.000000         3.000000       10.000000   \n",
      "max                 6.000000         4.000000       37.000000   \n",
      "\n",
      "       YearsInCurrentRole  YearsSinceLastPromotion  YearsWithCurrManager  \n",
      "count         1233.000000              1233.000000           1233.000000  \n",
      "mean             4.484185                 2.234388              4.367397  \n",
      "std              3.649402                 3.234762              3.594116  \n",
      "min              0.000000                 0.000000              0.000000  \n",
      "25%              2.000000                 0.000000              2.000000  \n",
      "50%              3.000000                 1.000000              3.000000  \n",
      "75%              7.000000                 3.000000              7.000000  \n",
      "max             18.000000                15.000000             17.000000  \n",
      "\n",
      "[8 rows x 26 columns]\n"
     ]
    }
   ],
   "source": [
    "print(att_no.describe())"
   ]
  },
  {
   "cell_type": "markdown",
   "metadata": {},
   "source": [
    "The distance from home on average is almost 2 points greater for employees with attrition.\n",
    "\n",
    "No significant difference in age, daily rate, or education between the two groups.\n",
    "\n",
    "No significant difference between environment satisfaction (2.5 with attrition, and 2.8 without attrition).\n",
    "\n",
    "No significant difference in hourly rate.\n",
    "\n",
    "No signifcant difference in job level.\n",
    "\n",
    "Average of \"Total working years\" was lower by almost 2.5 years in group with attrition\n",
    "\n",
    "No real difference in work life balance.\n",
    "\n",
    "No real difference in training time last year.\n",
    "\n",
    "Average years with company was 2 years lower in the group with attrition.\n",
    "\n",
    "There is significant difference between years in current role: \n",
    "    (no attrition) average of 4.4, with std of 3.6\n",
    "    (with attrition) average of 2.9, with std of 3.1\n",
    "    \n",
    "There is no significant difference between \"years since last promotion\":\n",
    "    (no attrition) average of 2.2, with a std of 3.2\n",
    "    (with attrition) average of 1.9, with a std of 3.1, suggesting no real difference\n",
    "    \n",
    "There is significant difference between \"years with current manager\":\n",
    "    (no attrition) average of 4.3 years with std of 3.5\n",
    "    (with attrition) average of 2.8, with std of 3.1.\n",
    "    This suggests that those job roles that did not experience attrition tended to have longer and hence closer, relationship       with management."
   ]
  },
  {
   "cell_type": "code",
   "execution_count": 27,
   "metadata": {},
   "outputs": [
    {
     "name": "stdout",
     "output_type": "stream",
     "text": [
      "Research & Development    133\n",
      "Sales                      92\n",
      "Human Resources            12\n",
      "Name: Department, dtype: int64\n",
      "Travel_Rarely        156\n",
      "Travel_Frequently     69\n",
      "Non-Travel            12\n",
      "Name: BusinessTravel, dtype: int64\n"
     ]
    }
   ],
   "source": [
    "print(att_yes['Department'].value_counts())\n",
    "print(att_yes['BusinessTravel'].value_counts())"
   ]
  },
  {
   "cell_type": "markdown",
   "metadata": {},
   "source": [
    "This shows that attrition was not specific to any particular department.  Traveling was not a specific factor either, because alot of the jobs that were lost due to attrition were not involved with frequent travel.\n",
    "\n"
   ]
  },
  {
   "cell_type": "code",
   "execution_count": 28,
   "metadata": {},
   "outputs": [
    {
     "name": "stdout",
     "output_type": "stream",
     "text": [
      "Male      150\n",
      "Female     87\n",
      "Name: Gender, dtype: int64\n"
     ]
    }
   ],
   "source": [
    "print(att_yes['Gender'].value_counts())"
   ]
  },
  {
   "cell_type": "code",
   "execution_count": 34,
   "metadata": {},
   "outputs": [
    {
     "name": "stdout",
     "output_type": "stream",
     "text": [
      "Laboratory Technician        62\n",
      "Sales Executive              57\n",
      "Research Scientist           47\n",
      "Sales Representative         33\n",
      "Human Resources              12\n",
      "Manufacturing Director       10\n",
      "Healthcare Representative     9\n",
      "Manager                       5\n",
      "Research Director             2\n",
      "Name: JobRole, dtype: int64\n",
      "237\n"
     ]
    }
   ],
   "source": [
    "print(att_yes['JobRole'].value_counts())\n",
    "print(att_yes['JobRole'].count())"
   ]
  },
  {
   "cell_type": "code",
   "execution_count": 33,
   "metadata": {},
   "outputs": [
    {
     "data": {
      "image/png": "[encoded data removed]",
      "text/plain": [
       "<Figure size 440.625x360 with 1 Axes>"
      ]
     },
     "metadata": {
      "needs_background": "light"
     },
     "output_type": "display_data"
    }
   ],
   "source": [
    "sns.catplot(x=\"Attrition\", y=\"YearsWithCurrManager\", hue=\"MaritalStatus\", kind=\"box\", data=df)\n",
    "plt.show()\n"
   ]
  },
  {
   "cell_type": "markdown",
   "metadata": {},
   "source": [
    "The difference in the number of \"years at company\" was similar to the difference in \"years with current manager\" between the jobs that were lost to attrition, and the ones that were not. \n",
    "\n",
    "The significant differences are found in \"total working years\", \"years with company\", \"years in current role\", \"years with current manager\", which suggests that attrition maybe linked to how management valued a certain job position.\n",
    "\n",
    "Question: Is attrition more prevalent among job positions that lacked a long-term working relationship with management?"
   ]
  },
  {
   "cell_type": "markdown",
   "metadata": {},
   "source": [
    "The dataset I studied was the \"IBM HR Analytics Employee Attrition & Performance\" dataset.  It contains information for over 1400 employees; information such as hourly rate, eductaion levels, job and environment satisfaction, gender, distance from home, business travel, years at company, and years with current manager, among many other data points.  It also tells us whether or not that job or job position was lost due to attrition.  \n",
    "\n",
    "By definition, attrition can lead to a reduction in the workforce due to an employee retiring or quitting.  If it is ignored, it can negatively affect the competitivness of a company because of the potential loss of experience in a company's ranks, and the need to implement costly training programs to make up for the people that left.\n",
    "\n",
    "Attrition doesn't always affect the lowest ranks of a company's workforce.  For example in our dataset, we saw that attrition affected a broad range of positions from the less technical Sales Representatives to the Science and Tech heavy Research Scientists.  After filtering our dataset by attrition value, we see that 47 of the 237 positions lost to attrition were of Research Scientists and 33 of the 237 positions lost were of sales representatives.  \n",
    "\n",
    "talk about the categories where there are significant differences and how it lead you to your question of interest.  Than make a hypothesis."
   ]
  }
 ],
 "metadata": {
  "kernelspec": {
   "display_name": "Python 3",
   "language": "python",
   "name": "python3"
  },
  "language_info": {
   "codemirror_mode": {
    "name": "ipython",
    "version": 3
   },
   "file_extension": ".py",
   "mimetype": "text/x-python",
   "name": "python",
   "nbconvert_exporter": "python",
   "pygments_lexer": "ipython3",
   "version": "3.7.0"
  }
 },
 "nbformat": 4,
 "nbformat_minor": 2
}
