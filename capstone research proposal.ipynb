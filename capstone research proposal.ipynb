{
 "cells": [
  {
   "cell_type": "code",
   "execution_count": 66,
   "metadata": {},
   "outputs": [],
   "source": [
    "import numpy as np\n",
    "import pandas as pd\n",
    "import seaborn as sns\n",
    "import matplotlib.pyplot as plt\n",
    "%matplotlib inline"
   ]
  },
  {
   "cell_type": "markdown",
   "metadata": {},
   "source": [
    "#### The dataset I studied was the \"IBM HR Analytics Employee Attrition & Performance\" dataset.  It contains information for over 1400 employees; information such as hourly rate, eductaion levels, job and environment satisfaction, gender, distance from home, business travel, years at company, and years with current manager, among many other data points.  It also tells us whether or not that job or job position was lost due to attrition.  \n"
   ]
  },
  {
   "cell_type": "code",
   "execution_count": 67,
   "metadata": {},
   "outputs": [
    {
     "name": "stdout",
     "output_type": "stream",
     "text": [
      "   Age Attrition     BusinessTravel  DailyRate              Department  \\\n",
      "0   41       Yes      Travel_Rarely       1102                   Sales   \n",
      "1   49        No  Travel_Frequently        279  Research & Development   \n",
      "2   37       Yes      Travel_Rarely       1373  Research & Development   \n",
      "3   33        No  Travel_Frequently       1392  Research & Development   \n",
      "4   27        No      Travel_Rarely        591  Research & Development   \n",
      "\n",
      "   DistanceFromHome  Education EducationField  EmployeeCount  EmployeeNumber  \\\n",
      "0                 1          2  Life Sciences              1               1   \n",
      "1                 8          1  Life Sciences              1               2   \n",
      "2                 2          2          Other              1               4   \n",
      "3                 3          4  Life Sciences              1               5   \n",
      "4                 2          1        Medical              1               7   \n",
      "\n",
      "           ...           RelationshipSatisfaction StandardHours  \\\n",
      "0          ...                                  1            80   \n",
      "1          ...                                  4            80   \n",
      "2          ...                                  2            80   \n",
      "3          ...                                  3            80   \n",
      "4          ...                                  4            80   \n",
      "\n",
      "   StockOptionLevel  TotalWorkingYears  TrainingTimesLastYear WorkLifeBalance  \\\n",
      "0                 0                  8                      0               1   \n",
      "1                 1                 10                      3               3   \n",
      "2                 0                  7                      3               3   \n",
      "3                 0                  8                      3               3   \n",
      "4                 1                  6                      3               3   \n",
      "\n",
      "   YearsAtCompany YearsInCurrentRole  YearsSinceLastPromotion  \\\n",
      "0               6                  4                        0   \n",
      "1              10                  7                        1   \n",
      "2               0                  0                        0   \n",
      "3               8                  7                        3   \n",
      "4               2                  2                        2   \n",
      "\n",
      "   YearsWithCurrManager  \n",
      "0                     5  \n",
      "1                     7  \n",
      "2                     0  \n",
      "3                     0  \n",
      "4                     2  \n",
      "\n",
      "[5 rows x 35 columns]\n"
     ]
    }
   ],
   "source": [
    "df = pd.read_csv(\"HR-Employee-Attrition.csv\")\n",
    "df = df.dropna()\n",
    "df = df.drop_duplicates()\n",
    "\n",
    "print(df.head())\n"
   ]
  },
  {
   "cell_type": "code",
   "execution_count": 68,
   "metadata": {},
   "outputs": [],
   "source": [
    "#filering the dataframe by attrition \n",
    "att_yes = df[df['Attrition'] == 'Yes']\n",
    "att_no = df[df['Attrition'] == 'No']\n"
   ]
  },
  {
   "cell_type": "markdown",
   "metadata": {},
   "source": [
    "#### After filtering the dataframe based on attrition, I took the average of the key variables in both of the data sets."
   ]
  },
  {
   "cell_type": "code",
   "execution_count": 69,
   "metadata": {},
   "outputs": [
    {
     "name": "stdout",
     "output_type": "stream",
     "text": [
      "Average age of the group with attrition is: 33.607594936708864and std is: 9.689349895351622\n",
      "Average age of the group without attrition is: 37.561232765612324and std is: 8.888360024976546\n",
      "Not a significant difference in the ages of the two groups.\n",
      "\n",
      "Average education level of the group with attrition is: 2.839662447257384and std is: 1.0082439277172608\n",
      "Average education level of the group without attrition is: 2.927007299270073and std is: 1.027001789717541\n",
      "Not a significant difference in the education levels of the two groups.\n",
      "\n",
      "Average environment satisfaction of the group with attrition is: 2.4641350210970465and std is: 1.1697912816861842\n",
      "Average environment satisfaction of the group with attrition is: 2.7712895377128954and std is: 1.071132293854282\n",
      "Not a significant difference in environment satisfaction ratings between the two groups.\n",
      "\n",
      "Average hourly rate of the group with attrition is: 65.57383966244726and std is: 20.099957606615547\n",
      "Average hourly rate of the group with attrition is: 65.9521492295215and std is: 20.380754242917032\n",
      "Not a significant difference in the hourly rate between the two groups.\n",
      "\n",
      "Average level of work/life balance of the group with attrition is: 2.6582278481012658and std is: 0.8164527856864083\n",
      "Average level of work/life balance of the group with attrition is: 2.781021897810219and std is: 0.6819066520792771\n",
      "Not a significant difference in the work/life balance rating between the two groups.\n",
      "\n"
     ]
    }
   ],
   "source": [
    "print(\"Average age of the group with attrition is: \" + str(np.mean(att_yes['Age'])) + \"and std is: \" + str(np.std(att_yes['Age'], ddof=1)))\n",
    "print(\"Average age of the group without attrition is: \" + str(np.mean(att_no['Age'])) + \"and std is: \" + str(np.std(att_no['Age'], ddof=1)))\n",
    "print(\"Not a significant difference in the ages of the two groups.\")\n",
    "print()\n",
    "\n",
    "print(\"Average education level of the group with attrition is: \" + str(np.mean(att_yes['Education'])) + \"and std is: \" + str(np.std(att_yes['Education'], ddof=1)))\n",
    "print(\"Average education level of the group without attrition is: \" + str(np.mean(att_no['Education'])) + \"and std is: \" + str(np.std(att_no['Education'], ddof=1)))\n",
    "print(\"Not a significant difference in the education levels of the two groups.\")\n",
    "print()\n",
    "\n",
    "print(\"Average environment satisfaction of the group with attrition is: \" + str(np.mean(att_yes['EnvironmentSatisfaction'])) + \"and std is: \" + str(np.std(att_yes['EnvironmentSatisfaction'], ddof=1)))\n",
    "print(\"Average environment satisfaction of the group with attrition is: \" + str(np.mean(att_no['EnvironmentSatisfaction'])) + \"and std is: \" + str(np.std(att_no['EnvironmentSatisfaction'], ddof=1)))\n",
    "print(\"Not a significant difference in environment satisfaction ratings between the two groups.\")\n",
    "print()\n",
    "\n",
    "print(\"Average hourly rate of the group with attrition is: \" + str(np.mean(att_yes['HourlyRate'])) + \"and std is: \" + str(np.std(att_yes['HourlyRate'], ddof=1)))\n",
    "print(\"Average hourly rate of the group with attrition is: \" + str(np.mean(att_no['HourlyRate'])) + \"and std is: \" + str(np.std(att_no['HourlyRate'], ddof=1)))\n",
    "print(\"Not a significant difference in the hourly rate between the two groups.\")\n",
    "print()\n",
    "\n",
    "print(\"Average level of work/life balance of the group with attrition is: \" + str(np.mean(att_yes['WorkLifeBalance'])) + \"and std is: \" + str(np.std(att_yes['WorkLifeBalance'], ddof=1)))\n",
    "print(\"Average level of work/life balance of the group with attrition is: \" + str(np.mean(att_no['WorkLifeBalance'])) + \"and std is: \" + str(np.std(att_no['WorkLifeBalance'], ddof=1)))\n",
    "print(\"Not a significant difference in the work/life balance rating between the two groups.\")\n",
    "print()\n"
   ]
  },
  {
   "cell_type": "markdown",
   "metadata": {},
   "source": [
    "#### I found that there is no significant difference in the hourly rate, education level, environment satisfaction, and work/life balance between the job positions that were lost to attrition, and the positions that were not lost due to attrition.  \n",
    "\n",
    "#### Attrition didn't affect any one particular department within the company, as you can see below."
   ]
  },
  {
   "cell_type": "code",
   "execution_count": 70,
   "metadata": {},
   "outputs": [
    {
     "name": "stdout",
     "output_type": "stream",
     "text": [
      "Research & Development    133\n",
      "Sales                      92\n",
      "Human Resources            12\n",
      "Name: Department, dtype: int64\n"
     ]
    }
   ],
   "source": [
    "print(att_yes['Department'].value_counts())"
   ]
  },
  {
   "cell_type": "markdown",
   "metadata": {},
   "source": [
    "#### Also, travel was also not a factor in job loss due to attrition.  As you can see below, most of the positions lost rarely involved traveling."
   ]
  },
  {
   "cell_type": "code",
   "execution_count": 71,
   "metadata": {},
   "outputs": [
    {
     "name": "stdout",
     "output_type": "stream",
     "text": [
      "Travel_Rarely        156\n",
      "Travel_Frequently     69\n",
      "Non-Travel            12\n",
      "Name: BusinessTravel, dtype: int64\n"
     ]
    }
   ],
   "source": [
    "print(att_yes['BusinessTravel'].value_counts())"
   ]
  },
  {
   "cell_type": "markdown",
   "metadata": {},
   "source": [
    "#### Attrition was not specfic to any gender either."
   ]
  },
  {
   "cell_type": "code",
   "execution_count": 72,
   "metadata": {},
   "outputs": [
    {
     "name": "stdout",
     "output_type": "stream",
     "text": [
      "Male      150\n",
      "Female     87\n",
      "Name: Gender, dtype: int64\n"
     ]
    }
   ],
   "source": [
    "print(att_yes['Gender'].value_counts())"
   ]
  },
  {
   "cell_type": "markdown",
   "metadata": {},
   "source": [
    "#### Attrition didn't always affect the lowest ranks of a company's workforce.  For example in our dataset, we saw that attrition affected a broad range of positions from the less technical Sales Representatives to the Science and Tech heavy Research Scientists.  After filtering our dataset by attrition value, we see that 47 of the 237 positions lost to attrition were of Research Scientists and 33 of the 237 positions lost were of sales representatives.  "
   ]
  },
  {
   "cell_type": "code",
   "execution_count": 73,
   "metadata": {},
   "outputs": [
    {
     "name": "stdout",
     "output_type": "stream",
     "text": [
      "Laboratory Technician        62\n",
      "Sales Executive              57\n",
      "Research Scientist           47\n",
      "Sales Representative         33\n",
      "Human Resources              12\n",
      "Manufacturing Director       10\n",
      "Healthcare Representative     9\n",
      "Manager                       5\n",
      "Research Director             2\n",
      "Name: JobRole, dtype: int64\n",
      "\n",
      "The total number of job positions lost to attrition was: 237\n"
     ]
    }
   ],
   "source": [
    "print(att_yes['JobRole'].value_counts())\n",
    "print()\n",
    "print(\"The total number of job positions lost to attrition was: \" + str(att_yes['JobRole'].count()))"
   ]
  },
  {
   "cell_type": "markdown",
   "metadata": {},
   "source": [
    "#### However I did see a significant difference in the data within our two filtered datasets in the three important variables: \"years in current role\", \"years at company\", and the \"years with current manager\"."
   ]
  },
  {
   "cell_type": "code",
   "execution_count": 74,
   "metadata": {},
   "outputs": [
    {
     "name": "stdout",
     "output_type": "stream",
     "text": [
      "Average \"years in current role\" of the group with attrition is: 2.9029535864978904and std is: 3.174826788608656\n",
      "Average \"years in current role\" of the group without attrition is: 4.484184914841849and std is: 3.649401926387973\n",
      "\n",
      "Average \"years at company\" of the group with attrition is: 5.1308016877637135and std is: 5.949984029204934\n",
      "Average \"years at company\" of the group with attrition is: 7.369018653690187and std is: 6.096298144398664\n",
      "\n",
      "Average \"years with current manager\" of the group with attrition is: 2.852320675105485and std is: 3.1433486567811237\n",
      "Average \"years with current manager\" of the group without attrition is: 4.367396593673966and std is: 3.5941160138926396\n"
     ]
    }
   ],
   "source": [
    "print(\"Average \\\"years in current role\\\" of the group with attrition is: \" + str(np.mean(att_yes['YearsInCurrentRole'])) + \"and std is: \" + str(np.std(att_yes['YearsInCurrentRole'], ddof=1)))\n",
    "print(\"Average \\\"years in current role\\\" of the group without attrition is: \" + str(np.mean(att_no['YearsInCurrentRole'])) + \"and std is: \" + str(np.std(att_no['YearsInCurrentRole'], ddof=1)))\n",
    "print()\n",
    "\n",
    "print(\"Average \\\"years at company\\\" of the group with attrition is: \" + str(np.mean(att_yes['YearsAtCompany'])) + \"and std is: \" + str(np.std(att_yes['YearsAtCompany'], ddof=1)))\n",
    "print(\"Average \\\"years at company\\\" of the group with attrition is: \" + str(np.mean(att_no['YearsAtCompany'])) + \"and std is: \" + str(np.std(att_no['YearsAtCompany'], ddof=1)))\n",
    "print()\n",
    "print(\"Average \\\"years with current manager\\\" of the group with attrition is: \" + str(np.mean(att_yes['YearsWithCurrManager'])) + \"and std is: \" + str(np.std(att_yes['YearsWithCurrManager'], ddof=1)))\n",
    "print(\"Average \\\"years with current manager\\\" of the group without attrition is: \" + str(np.mean(att_no['YearsWithCurrManager'])) + \"and std is: \" + str(np.std(att_no['YearsWithCurrManager'], ddof=1)))\n"
   ]
  },
  {
   "cell_type": "markdown",
   "metadata": {},
   "source": [
    "#### The key take away from this is that the job positions that were not lost due to attrition were held by employees who stayed within their current role, and under the same manager, by an average of almost a year and half longer, than those postions that were lost to attrition.\n",
    "\n",
    "#### The boxplot below gives a better visual sense of this difference in a very meaningful way. It clearly shows that the job positions that were not lost to attrition tended to be have a lengthier working relationship with their particular manager.  \n",
    "\n",
    "#### Also, the boxplot shows that within those positions that were lost to attrition, married individuals tended to have a lengthier working relationship with a manager.  I would assume that married individuals would put more value on building a stable long-term relationship, whether in their personal or professional life.\n"
   ]
  },
  {
   "cell_type": "code",
   "execution_count": 75,
   "metadata": {},
   "outputs": [
    {
     "data": {
      "image/png": "[encoded data removed]",
      "text/plain": [
       "<Figure size 440.625x360 with 1 Axes>"
      ]
     },
     "metadata": {
      "needs_background": "light"
     },
     "output_type": "display_data"
    }
   ],
   "source": [
    "sns.catplot(x=\"Attrition\", y=\"YearsWithCurrManager\", hue=\"MaritalStatus\", kind=\"box\", data=df)\n",
    "plt.show()\n"
   ]
  },
  {
   "cell_type": "markdown",
   "metadata": {},
   "source": [
    "## The Problem\n",
    "\n",
    "#### This dataset led me to question, is attrition more prevalent among job positions that lacked a long-term working relationship with management?\n",
    "\n",
    "#### The significant differences that are found in these three variables suggest that attrition maybe linked to how management valued a certain job position.  This could affect the quality of communication between management and employee, along with their performance level and overall morale.\n",
    "\n",
    "#### By definition, attrition can lead to a reduction in the workforce due to an employee retiring or quitting.  If it is ignored, it can negatively affect the competitivness of a company because of the potential loss of experience in a company's ranks, and the need to implement costly training programs to make up for the people that left.\n",
    "\n",
    "## Hypothesis:\n",
    "\n",
    "#### A positive professional relationship between manager and employee will reduce attrition in a company.¶\n",
    "\n",
    "## The Process:\n",
    "\n",
    "#### Pick a company and divide its employees into two equal groups that will act as our two sample groups.  Each group should have atleast 1000 people, giving us an adequate sample size to generate normal data.  The persons in the two groups will be of similar age mix, gender mix, pay level, and education level.  The persons will also have the same marital status, which for the sake of our experiment should be single.  We will run the experiment for a period of three years, because from our dataset we can see that the average number of years a person stayed in a particular job role, before his/her position was lost to attrition was about three years.  But we will monitor attrition on a yearly basis within the three year time frame, and consider only those positions vacated by the employee's own choice.\n",
    "\n",
    "#### In the first group (test group), we will task the managers to implement a web-based performance management software, such as Performance Culture, and have monthly review/development sessions with each employee.  For the initial three months, we will monitor the managers to make sure they are implementing Performance Culture software properly within their departments.  All employee computers in this group will have Performance Culture installed on them, so that employees and managers can use the developmental tools to monitor and develop each other's perfomance, and at the same time create a better professional relationship with each other. \n",
    "\n",
    "#### The second group (the control group) will not have Performance Culture implemented and instead will only have two annual reviews, one every six months.\n",
    "\n",
    "## Variable of interest:\n",
    "\n",
    "#### The variable of interest is the number of job positions lost due to attrition from each group after three years.  We will run a t-test calculation on the data of all the jobs vacated during the  three years from both groups, and use a p-value of .05 as our significance level, to measure how significant the difference in our two groups are.  If the p value is greater than .05, than we will reject our hypothesis that implementing a performance management software within an organization will help reduce attrition, and we will accept the null hypothesis that a positive professional relationship between manager and employee does not effect attrition in a company.\n",
    "\n",
    "## Secondary Metric:\n",
    "#### A secondary metric we can track, that will also give us insights, is the time it took to fill, or replace, the vacated job positions.\n",
    "\n"
   ]
  }
 ],
 "metadata": {
  "kernelspec": {
   "display_name": "Python 3",
   "language": "python",
   "name": "python3"
  },
  "language_info": {
   "codemirror_mode": {
    "name": "ipython",
    "version": 3
   },
   "file_extension": ".py",
   "mimetype": "text/x-python",
   "name": "python",
   "nbconvert_exporter": "python",
   "pygments_lexer": "ipython3",
   "version": "3.7.0"
  }
 },
 "nbformat": 4,
 "nbformat_minor": 2
}
